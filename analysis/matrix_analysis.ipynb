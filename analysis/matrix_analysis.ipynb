{
 "cells": [
  {
   "cell_type": "markdown",
   "metadata": {},
   "source": [
    "----------------\n",
    "# Spiegazione\n",
    "<img src=\"fig/heatmap.PNG\">\n",
    "\n",
    "**LEGEND**\n",
    "\n",
    "Il grafico mette a confronto i tentativi utilizzati da _knuth_ con i tentativi utilizzati dalla rete in esame.\n",
    "\n",
    "In particolare, nell'asse delle y abbiamo i tentativi che ha impiegato _knuth_ per risolvere il match, mentre nell'asse delle x il numero di tentativi del player.\n",
    "\n",
    "E.g. Scrorrendo la riga 1 abbiamo il numero di partite vinte da knuth con 1 tentativo, e in corrispondenza della colonna 4 abbiamo un +1, Questo vuol dire che knuth ha risolto 1a partita con 1 solo tentativo, mentre per la stessa partita il player ha impiegato 4 tentativi.\n",
    "\n",
    "E.g. Scorrendo la riga 3 possiamo vedere come Knuth abbia vinto 3+8+16+23+2+2+2+5 partite in 3 tentativi. Mentre il player di queste partite non ne ha concluse 5 (colonna 10+), e nella maggior parte dei casi (23volte) ha impiegato 6 tentativi\n",
    "\n",
    "-------------------------------"
   ]
  },
  {
   "cell_type": "code",
   "execution_count": 5,
   "metadata": {},
   "outputs": [
    {
     "name": "stdout",
     "output_type": "stream",
     "text": [
      "hopeful_play.csv  hopeful_play_cuts.csv\n"
     ]
    }
   ],
   "source": [
    "!ls ./matchesPlayed/"
   ]
  },
  {
   "cell_type": "code",
   "execution_count": 6,
   "metadata": {},
   "outputs": [],
   "source": [
    "import pandas as pd\n",
    "import numpy as np\n",
    "import seaborn as sns\n",
    "import matplotlib.pyplot as plt\n",
    "sns.set()"
   ]
  },
  {
   "cell_type": "markdown",
   "metadata": {},
   "source": [
    "--------------\n",
    "**PARAMS**"
   ]
  },
  {
   "cell_type": "code",
   "execution_count": 7,
   "metadata": {},
   "outputs": [],
   "source": [
    "KNUTH_PATH = \"../database/dbPlayers/knuth/knuth_optimal.csv\"\n",
    "\n",
    "PLAYER_PATH = \"./matchesPlayed/hopeful_play.csv\""
   ]
  },
  {
   "cell_type": "markdown",
   "metadata": {},
   "source": [
    "-------------------"
   ]
  },
  {
   "cell_type": "code",
   "execution_count": 8,
   "metadata": {},
   "outputs": [],
   "source": [
    "df_list = []\n",
    "features_name = ['Guess 1', 'Guess 2', 'Guess 3', 'Guess 4', 'Guess 5',\n",
    "              'Guess 6', 'Guess 7', 'Guess 8', 'Guess 9', 'Guess 10']\n",
    "\n",
    "target_name = 'PASSWORD'\n",
    "\n",
    "# Optimize the df load\n",
    "feature_type = {}\n",
    "cuts_type = {}\n",
    "feature_type[target_name] = str\n",
    "for feature in features_name:\n",
    "    feature_type[feature] = str"
   ]
  },
  {
   "cell_type": "code",
   "execution_count": 9,
   "metadata": {},
   "outputs": [],
   "source": [
    "df_knuth = pd.read_csv(KNUTH_PATH, delimiter=',',encoding='utf-8', skip_blank_lines=True)\n",
    "df_player = pd.read_csv(PLAYER_PATH, delimiter=',',encoding='utf-8', skip_blank_lines=True)\n",
    "\n",
    "assert len(df_knuth) == len(df_player), \"DF must be the same lenght of 1296 matches\"\n",
    "assert all(df_knuth.iloc[:][target_name] == df_player.iloc[:][target_name]), \"DF must be ordered in the same way\""
   ]
  },
  {
   "cell_type": "markdown",
   "metadata": {},
   "source": [
    "*The PASSWORD field must be ordered*"
   ]
  },
  {
   "cell_type": "code",
   "execution_count": 11,
   "metadata": {},
   "outputs": [
    {
     "data": {
      "text/html": [
       "<div>\n",
       "<style scoped>\n",
       "    .dataframe tbody tr th:only-of-type {\n",
       "        vertical-align: middle;\n",
       "    }\n",
       "\n",
       "    .dataframe tbody tr th {\n",
       "        vertical-align: top;\n",
       "    }\n",
       "\n",
       "    .dataframe thead th {\n",
       "        text-align: right;\n",
       "    }\n",
       "</style>\n",
       "<table border=\"1\" class=\"dataframe\">\n",
       "  <thead>\n",
       "    <tr style=\"text-align: right;\">\n",
       "      <th></th>\n",
       "      <th>Guess 1</th>\n",
       "      <th>Guess 2</th>\n",
       "      <th>Guess 3</th>\n",
       "      <th>Guess 4</th>\n",
       "      <th>Guess 5</th>\n",
       "      <th>Guess 6</th>\n",
       "      <th>Guess 7</th>\n",
       "      <th>Guess 8</th>\n",
       "      <th>Guess 9</th>\n",
       "      <th>Guess 10</th>\n",
       "      <th>PASSWORD</th>\n",
       "    </tr>\n",
       "  </thead>\n",
       "  <tbody>\n",
       "    <tr>\n",
       "      <th>0</th>\n",
       "      <td>AABB20</td>\n",
       "      <td>BFEB00</td>\n",
       "      <td>DEAD10</td>\n",
       "      <td>AAAC30</td>\n",
       "      <td>AAAA40</td>\n",
       "      <td>&lt;pad&gt;</td>\n",
       "      <td>&lt;pad&gt;</td>\n",
       "      <td>&lt;pad&gt;</td>\n",
       "      <td>&lt;pad&gt;</td>\n",
       "      <td>&lt;pad&gt;</td>\n",
       "      <td>AAAA</td>\n",
       "    </tr>\n",
       "    <tr>\n",
       "      <th>1</th>\n",
       "      <td>AABB30</td>\n",
       "      <td>ACAB30</td>\n",
       "      <td>ACBB20</td>\n",
       "      <td>AAAB40</td>\n",
       "      <td>&lt;pad&gt;</td>\n",
       "      <td>&lt;pad&gt;</td>\n",
       "      <td>&lt;pad&gt;</td>\n",
       "      <td>&lt;pad&gt;</td>\n",
       "      <td>&lt;pad&gt;</td>\n",
       "      <td>&lt;pad&gt;</td>\n",
       "      <td>AAAB</td>\n",
       "    </tr>\n",
       "    <tr>\n",
       "      <th>2</th>\n",
       "      <td>AABB20</td>\n",
       "      <td>BAFD10</td>\n",
       "      <td>FAEA11</td>\n",
       "      <td>AACC30</td>\n",
       "      <td>AAAC40</td>\n",
       "      <td>&lt;pad&gt;</td>\n",
       "      <td>&lt;pad&gt;</td>\n",
       "      <td>&lt;pad&gt;</td>\n",
       "      <td>&lt;pad&gt;</td>\n",
       "      <td>&lt;pad&gt;</td>\n",
       "      <td>AAAC</td>\n",
       "    </tr>\n",
       "    <tr>\n",
       "      <th>3</th>\n",
       "      <td>AABB20</td>\n",
       "      <td>AFCC10</td>\n",
       "      <td>EAEA11</td>\n",
       "      <td>AADD30</td>\n",
       "      <td>AAAD40</td>\n",
       "      <td>&lt;pad&gt;</td>\n",
       "      <td>&lt;pad&gt;</td>\n",
       "      <td>&lt;pad&gt;</td>\n",
       "      <td>&lt;pad&gt;</td>\n",
       "      <td>&lt;pad&gt;</td>\n",
       "      <td>AAAD</td>\n",
       "    </tr>\n",
       "    <tr>\n",
       "      <th>4</th>\n",
       "      <td>AABB20</td>\n",
       "      <td>AFDA11</td>\n",
       "      <td>DDEB01</td>\n",
       "      <td>ACBF10</td>\n",
       "      <td>AAAE40</td>\n",
       "      <td>&lt;pad&gt;</td>\n",
       "      <td>&lt;pad&gt;</td>\n",
       "      <td>&lt;pad&gt;</td>\n",
       "      <td>&lt;pad&gt;</td>\n",
       "      <td>&lt;pad&gt;</td>\n",
       "      <td>AAAE</td>\n",
       "    </tr>\n",
       "  </tbody>\n",
       "</table>\n",
       "</div>"
      ],
      "text/plain": [
       "  Guess 1 Guess 2 Guess 3 Guess 4 Guess 5 Guess 6 Guess 7 Guess 8 Guess 9  \\\n",
       "0  AABB20  BFEB00  DEAD10  AAAC30  AAAA40   <pad>   <pad>   <pad>   <pad>   \n",
       "1  AABB30  ACAB30  ACBB20  AAAB40   <pad>   <pad>   <pad>   <pad>   <pad>   \n",
       "2  AABB20  BAFD10  FAEA11  AACC30  AAAC40   <pad>   <pad>   <pad>   <pad>   \n",
       "3  AABB20  AFCC10  EAEA11  AADD30  AAAD40   <pad>   <pad>   <pad>   <pad>   \n",
       "4  AABB20  AFDA11  DDEB01  ACBF10  AAAE40   <pad>   <pad>   <pad>   <pad>   \n",
       "\n",
       "  Guess 10 PASSWORD  \n",
       "0    <pad>     AAAA  \n",
       "1    <pad>     AAAB  \n",
       "2    <pad>     AAAC  \n",
       "3    <pad>     AAAD  \n",
       "4    <pad>     AAAE  "
      ]
     },
     "execution_count": 11,
     "metadata": {},
     "output_type": "execute_result"
    }
   ],
   "source": [
    "df_knuth.head()"
   ]
  },
  {
   "cell_type": "code",
   "execution_count": 12,
   "metadata": {},
   "outputs": [
    {
     "data": {
      "text/html": [
       "<div>\n",
       "<style scoped>\n",
       "    .dataframe tbody tr th:only-of-type {\n",
       "        vertical-align: middle;\n",
       "    }\n",
       "\n",
       "    .dataframe tbody tr th {\n",
       "        vertical-align: top;\n",
       "    }\n",
       "\n",
       "    .dataframe thead th {\n",
       "        text-align: right;\n",
       "    }\n",
       "</style>\n",
       "<table border=\"1\" class=\"dataframe\">\n",
       "  <thead>\n",
       "    <tr style=\"text-align: right;\">\n",
       "      <th></th>\n",
       "      <th>Guess 1</th>\n",
       "      <th>Guess 2</th>\n",
       "      <th>Guess 3</th>\n",
       "      <th>Guess 4</th>\n",
       "      <th>Guess 5</th>\n",
       "      <th>Guess 6</th>\n",
       "      <th>Guess 7</th>\n",
       "      <th>Guess 8</th>\n",
       "      <th>Guess 9</th>\n",
       "      <th>Guess 10</th>\n",
       "      <th>PASSWORD</th>\n",
       "    </tr>\n",
       "  </thead>\n",
       "  <tbody>\n",
       "    <tr>\n",
       "      <th>0</th>\n",
       "      <td>AEFE10</td>\n",
       "      <td>ABBD10</td>\n",
       "      <td>CEBC00</td>\n",
       "      <td>ADDA20</td>\n",
       "      <td>AFFA20</td>\n",
       "      <td>AAAA40</td>\n",
       "      <td>&lt;pad&gt;</td>\n",
       "      <td>&lt;pad&gt;</td>\n",
       "      <td>&lt;pad&gt;</td>\n",
       "      <td>&lt;pad&gt;</td>\n",
       "      <td>AAAA</td>\n",
       "    </tr>\n",
       "    <tr>\n",
       "      <th>1</th>\n",
       "      <td>AEFE10</td>\n",
       "      <td>ABBD11</td>\n",
       "      <td>BEBC01</td>\n",
       "      <td>DDAE10</td>\n",
       "      <td>DBFF01</td>\n",
       "      <td>CCAF10</td>\n",
       "      <td>ADAB30</td>\n",
       "      <td>ADAB30</td>\n",
       "      <td>ADAB30</td>\n",
       "      <td>XXXX</td>\n",
       "      <td>AAAB</td>\n",
       "    </tr>\n",
       "    <tr>\n",
       "      <th>2</th>\n",
       "      <td>AEFE10</td>\n",
       "      <td>ABBD10</td>\n",
       "      <td>CEBC10</td>\n",
       "      <td>CFFD01</td>\n",
       "      <td>AEAF20</td>\n",
       "      <td>AEAD20</td>\n",
       "      <td>AEBF10</td>\n",
       "      <td>ACAA22</td>\n",
       "      <td>AAAC40</td>\n",
       "      <td>&lt;pad&gt;</td>\n",
       "      <td>AAAC</td>\n",
       "    </tr>\n",
       "    <tr>\n",
       "      <th>3</th>\n",
       "      <td>AEFE10</td>\n",
       "      <td>ABBD20</td>\n",
       "      <td>ABCC10</td>\n",
       "      <td>AAAD40</td>\n",
       "      <td>&lt;pad&gt;</td>\n",
       "      <td>&lt;pad&gt;</td>\n",
       "      <td>&lt;pad&gt;</td>\n",
       "      <td>&lt;pad&gt;</td>\n",
       "      <td>&lt;pad&gt;</td>\n",
       "      <td>&lt;pad&gt;</td>\n",
       "      <td>AAAD</td>\n",
       "    </tr>\n",
       "    <tr>\n",
       "      <th>4</th>\n",
       "      <td>AEFE20</td>\n",
       "      <td>AEBB11</td>\n",
       "      <td>BEFF01</td>\n",
       "      <td>AAAE40</td>\n",
       "      <td>&lt;pad&gt;</td>\n",
       "      <td>&lt;pad&gt;</td>\n",
       "      <td>&lt;pad&gt;</td>\n",
       "      <td>&lt;pad&gt;</td>\n",
       "      <td>&lt;pad&gt;</td>\n",
       "      <td>&lt;pad&gt;</td>\n",
       "      <td>AAAE</td>\n",
       "    </tr>\n",
       "  </tbody>\n",
       "</table>\n",
       "</div>"
      ],
      "text/plain": [
       "  Guess 1 Guess 2 Guess 3 Guess 4 Guess 5 Guess 6 Guess 7 Guess 8 Guess 9  \\\n",
       "0  AEFE10  ABBD10  CEBC00  ADDA20  AFFA20  AAAA40   <pad>   <pad>   <pad>   \n",
       "1  AEFE10  ABBD11  BEBC01  DDAE10  DBFF01  CCAF10  ADAB30  ADAB30  ADAB30   \n",
       "2  AEFE10  ABBD10  CEBC10  CFFD01  AEAF20  AEAD20  AEBF10  ACAA22  AAAC40   \n",
       "3  AEFE10  ABBD20  ABCC10  AAAD40   <pad>   <pad>   <pad>   <pad>   <pad>   \n",
       "4  AEFE20  AEBB11  BEFF01  AAAE40   <pad>   <pad>   <pad>   <pad>   <pad>   \n",
       "\n",
       "  Guess 10 PASSWORD  \n",
       "0    <pad>     AAAA  \n",
       "1     XXXX     AAAB  \n",
       "2    <pad>     AAAC  \n",
       "3    <pad>     AAAD  \n",
       "4    <pad>     AAAE  "
      ]
     },
     "execution_count": 12,
     "metadata": {},
     "output_type": "execute_result"
    }
   ],
   "source": [
    "df_player.head()"
   ]
  },
  {
   "cell_type": "code",
   "execution_count": 13,
   "metadata": {},
   "outputs": [],
   "source": [
    "def calculate_match_len(row):\n",
    "    match_len = 0\n",
    "    for guess in row:\n",
    "        if guess != '<pad>':\n",
    "            match_len += 1\n",
    "        if guess == 'XXXX':\n",
    "            match_len = 11\n",
    "    return match_len"
   ]
  },
  {
   "cell_type": "code",
   "execution_count": 14,
   "metadata": {},
   "outputs": [],
   "source": [
    "matrix_analysis = np.zeros((5,11))"
   ]
  },
  {
   "cell_type": "code",
   "execution_count": 15,
   "metadata": {},
   "outputs": [],
   "source": [
    "for match_knuth, match_player in zip(df_knuth[features_name].values, df_player[features_name].values):\n",
    "    knuth_len = calculate_match_len(match_knuth)\n",
    "    player_len = calculate_match_len(match_player)\n",
    "    matrix_analysis[(knuth_len - 1), (player_len - 1)] += 1"
   ]
  },
  {
   "cell_type": "code",
   "execution_count": 23,
   "metadata": {},
   "outputs": [
    {
     "data": {
      "text/plain": [
       "array([[  0.,   0.,   0.,   1.,   0.,   0.,   0.,   0.,   0.,   0.,   0.],\n",
       "       [  0.,   0.,   2.,   0.,   1.,   1.,   0.,   1.,   0.,   0.,   0.],\n",
       "       [  0.,   0.,   3.,   8.,  16.,  23.,   2.,   2.,   2.,   0.,   5.],\n",
       "       [  1.,   9.,  36., 101., 134., 107.,  63.,  28.,  13.,   1.,  37.],\n",
       "       [  0.,   1.,  36., 131., 182., 147.,  77.,  28.,  19.,   5.,  73.]])"
      ]
     },
     "execution_count": 23,
     "metadata": {},
     "output_type": "execute_result"
    }
   ],
   "source": [
    "matrix_analysis"
   ]
  },
  {
   "cell_type": "code",
   "execution_count": 30,
   "metadata": {},
   "outputs": [
    {
     "data": {
      "text/plain": [
       "<matplotlib.axes._subplots.AxesSubplot at 0x7f8c225c74a8>"
      ]
     },
     "execution_count": 30,
     "metadata": {},
     "output_type": "execute_result"
    },
    {
     "data": {
      "image/png": "[encoded data removed]",
      "text/plain": [
       "<Figure size 1152x432 with 2 Axes>"
      ]
     },
     "metadata": {},
     "output_type": "display_data"
    }
   ],
   "source": [
    "plt.figure(figsize=(16, 6))\n",
    "plt.xlabel('Player')\n",
    "plt.ylabel('Knuth')\n",
    "plt.title('Tentativi del player (axis-x) vs tentativi knuth(axis-y)')\n",
    "xticklabels = [str(i) for i in range(1,11)]\n",
    "xticklabels.append('10+')\n",
    "yticklabels = [str(i) for i in range(1,6)]\n",
    "sns.heatmap(matrix_analysis, annot=True, cmap=\"YlGnBu\", fmt=\"g\", \n",
    "            xticklabels=xticklabels, yticklabels=yticklabels)"
   ]
  },
  {
   "cell_type": "code",
   "execution_count": null,
   "metadata": {},
   "outputs": [],
   "source": []
  }
 ],
 "metadata": {
  "kernelspec": {
   "display_name": "Python 3",
   "language": "python",
   "name": "python3"
  },
  "language_info": {
   "codemirror_mode": {
    "name": "ipython",
    "version": 3
   },
   "file_extension": ".py",
   "mimetype": "text/x-python",
   "name": "python",
   "nbconvert_exporter": "python",
   "pygments_lexer": "ipython3",
   "version": "3.6.8"
  }
 },
 "nbformat": 4,
 "nbformat_minor": 4
}
