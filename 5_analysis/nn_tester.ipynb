{
 "cells": [
  {
   "cell_type": "markdown",
   "metadata": {},
   "source": [
    "# Neural Network tester\n",
    "- Load a pre-trained NN and test it against 1296 passwords\n",
    "- Save a CSV with the hystory and cuts (it could be used by *matches_analyzer.ipynb*)\n",
    "-----------------------"
   ]
  },
  {
   "cell_type": "code",
   "execution_count": 58,
   "metadata": {},
   "outputs": [],
   "source": [
    "PRINT_INFO = False\n",
    "\n",
    "NETWORKS_FAMILY_PATH = \"../4_training/trained/model_20191026_1848\""
   ]
  },
  {
   "cell_type": "code",
   "execution_count": 61,
   "metadata": {},
   "outputs": [
    {
     "name": "stdout",
     "output_type": "stream",
     "text": [
      "Networks to test:['model_20191026_1848_0', 'model_20191026_1848_1', 'model_20191026_1848_2', 'model_20191026_1848_3']\n"
     ]
    }
   ],
   "source": [
    "networks_name = os.path.basename(NETWORKS_FAMILY_PATH)\n",
    "networks_paths = os.listdir(NETWORKS_FAMILY_PATH)\n",
    "assert len(networks_paths) == 4\n",
    "networks_paths.sort(key= lambda name: int(name[-1]))\n",
    "print(\"Networks to test:{}\".format(networks_paths))\n",
    "\n",
    "MODELS_PATH = []\n",
    "INFOS_PATH = []\n",
    "for network_path in networks_paths:\n",
    "    model_path = NETWORKS_FAMILY_PATH+\"/\"+network_path+\"/export/predict/\"\n",
    "    info_path = NETWORKS_FAMILY_PATH+\"/\"+network_path+\"/model.info\"\n",
    "    export_id = os.listdir(model_path)\n",
    "    model_path += export_id[0]\n",
    "    MODELS_PATH.append(model_path)\n",
    "    INFOS_PATH.append(info_path)"
   ]
  },
  {
   "cell_type": "code",
   "execution_count": 62,
   "metadata": {},
   "outputs": [
    {
     "data": {
      "text/plain": [
       "'model_20191026_1848'"
      ]
     },
     "execution_count": 62,
     "metadata": {},
     "output_type": "execute_result"
    }
   ],
   "source": [
    "networks_name"
   ]
  },
  {
   "cell_type": "markdown",
   "metadata": {},
   "source": [
    "---------------------------------------------\n",
    "## Load the networks"
   ]
  },
  {
   "cell_type": "code",
   "execution_count": 63,
   "metadata": {},
   "outputs": [],
   "source": [
    "import tensorflow as tf\n",
    "import pandas as pd\n",
    "import json\n",
    "import os"
   ]
  },
  {
   "cell_type": "code",
   "execution_count": 64,
   "metadata": {},
   "outputs": [
    {
     "name": "stdout",
     "output_type": "stream",
     "text": [
      "Info network 0:{\n",
      "    \"ALPHA\": 0.001,\n",
      "    \"ATTENTION_SIZE\": 256,\n",
      "    \"BATCH_EVAL\": 4,\n",
      "    \"BATCH_TRAIN\": 4,\n",
      "    \"BW_FORGET_BIAS\": 1,\n",
      "    \"CSV_PATH_EVAL\": \"../2_database/dbML/hopeful/light_eval_100.csv\",\n",
      "    \"CSV_PATH_TRAIN\": \"../2_database/dbML/hopeful/light_train_5000.csv\",\n",
      "    \"DROP_REPRESENTATION\": 0.3,\n",
      "    \"EPOCHS\": 2,\n",
      "    \"EVAL_STEPS\": null,\n",
      "    \"FW_FORGET_BIAS\": 1,\n",
      "    \"GOAL\": \"goalReduced\",\n",
      "    \"GOAL_POS\": 0,\n",
      "    \"INPUT_ENCODING\": \"Peg: Hot encoding, Tips: One Hot Encoding\",\n",
      "    \"L2_SCALE\": 0.001,\n",
      "    \"LSTM_SIZE\": 256,\n",
      "    \"MAXOUT_SIZE\": 256,\n",
      "    \"MODEL_DIR_PATH\": \"model_20191026_1848_0\",\n",
      "    \"MULTI_THREADING\": true,\n",
      "    \"NUM_EVALS\": 2,\n",
      "    \"SHUFFLE_EVAL\": true,\n",
      "    \"_NETWORK_TYPE\": \"BiLSTM_AttentionSystem\",\n",
      "    \"loss_fn\": \"mean_pairwise_squared_error\",\n",
      "    \"train_duration\": \"0:01:12\"\n",
      "}\n"
     ]
    }
   ],
   "source": [
    "with open(INFOS_PATH[0]) as f:\n",
    "    nn_info = json.load(f)\n",
    "    print(\"Info network 0:\"+json.dumps(nn_info, indent=4, sort_keys=True))"
   ]
  },
  {
   "cell_type": "code",
   "execution_count": 65,
   "metadata": {},
   "outputs": [
    {
     "name": "stdout",
     "output_type": "stream",
     "text": [
      "INFO:tensorflow:Restoring parameters from ../4_training/trained/model_20191026_1848/model_20191026_1848_0/export/predict/1572108611/variables/variables\n",
      "INFO:tensorflow:Restoring parameters from ../4_training/trained/model_20191026_1848/model_20191026_1848_1/export/predict/1572108717/variables/variables\n",
      "INFO:tensorflow:Restoring parameters from ../4_training/trained/model_20191026_1848/model_20191026_1848_2/export/predict/1572108796/variables/variables\n",
      "INFO:tensorflow:Restoring parameters from ../4_training/trained/model_20191026_1848/model_20191026_1848_3/export/predict/1572108882/variables/variables\n"
     ]
    }
   ],
   "source": [
    "def load_model(model_path):\n",
    "    predictor_fn = tf.contrib.predictor.from_saved_model(\n",
    "                            export_dir = model_path,\n",
    "                            signature_def_key=\"prediction\")\n",
    "    return predictor_fn\n",
    "\n",
    "models = []\n",
    "for path in MODELS_PATH:\n",
    "    model = load_model(path)\n",
    "    models.append(model)"
   ]
  },
  {
   "cell_type": "markdown",
   "metadata": {},
   "source": [
    "------------------\n",
    "## Test the network"
   ]
  },
  {
   "cell_type": "code",
   "execution_count": 66,
   "metadata": {},
   "outputs": [],
   "source": [
    "from itertools import product\n",
    "from string import ascii_uppercase\n",
    "FEATURES_NAME = ['Guess 1', 'Guess 2', 'Guess 3', 'Guess 4', 'Guess 5',\n",
    "          'Guess 6', 'Guess 7', 'Guess 8', 'Guess 9', 'Guess 10']\n",
    "\n",
    "TARGET_NAME = 'PASSWORD'\n",
    "\n",
    "HEADER = FEATURES_NAME + [TARGET_NAME]\n",
    "\n",
    "HOT_ENCODING = {\n",
    "    \"100000\" : 'A',\n",
    "    \"010000\" : 'B',\n",
    "    \"001000\" : 'C',\n",
    "    \"000100\" : 'D',\n",
    "    \"000010\" : 'E',\n",
    "    \"000001\" : 'F',\n",
    "}\n",
    "\n",
    "MATCH_LOST_PAD = 'XXXX'\n",
    "\n",
    "# Classic Mastermind rules\n",
    "PSW_CARDINALITY = 6\n",
    "PSW_LEN = 4\n",
    "PSW_POOL_COMPLETE = [''.join(p) for p in product(ascii_uppercase[0:PSW_CARDINALITY], repeat=PSW_LEN)]\n",
    "\n",
    "# Analysis persistance\n",
    "def save_to_csv(matches, tail_name):\n",
    "    df = pd.DataFrame(data=matches, columns=HEADER)\n",
    "    with open('./matchesPlayed/{}_{}.csv'.format(networks_name, tail_name),'w') as f:\n",
    "        df.to_csv(f, sep=',', encoding='utf-8',index=False, header=True, float_format=\"%.0f\")"
   ]
  },
  {
   "cell_type": "code",
   "execution_count": 67,
   "metadata": {},
   "outputs": [],
   "source": [
    "def change_char(s, p, r):\n",
    "    return s[:p]+r+s[p+1:]\n",
    "\n",
    "def hints_calculator(psw_goal, psw_guess):\n",
    "    black_pegs = len([goal_element for goal_element, guess_element in zip(psw_goal, psw_guess) if goal_element == guess_element])\n",
    "    white_pegs = sum([min(psw_goal.count(element), psw_guess.count(element)) for element in set('ABCDEF')]) - black_pegs\n",
    "    return black_pegs, white_pegs\n",
    "\n",
    "def get_clean_match():\n",
    "    match = {}\n",
    "    cuts = {}\n",
    "    for guess in FEATURES_NAME:\n",
    "        match[guess] = [\"<pad>\"]\n",
    "        cuts[guess] = 0\n",
    "    match[TARGET_NAME] = [\"----\"]\n",
    "    cuts[TARGET_NAME] = \"----\"\n",
    "    return match, cuts\n",
    "\n",
    "def make_a_guess(match, psw):\n",
    "    for idx, model in enumerate(models):\n",
    "        prediction = model(match)['Prediction'][0]\n",
    "        prediction = \"\".join(str(int(digit)) for digit in prediction)\n",
    "        prediction = HOT_ENCODING[prediction]\n",
    "        match[TARGET_NAME][0] = change_char(match[TARGET_NAME][0], idx, prediction)\n",
    "    blk_peg, wht_peg = hints_calculator(psw, match[TARGET_NAME][0])\n",
    "    guess = \"{}{}{}\".format(match[TARGET_NAME][0], blk_peg, wht_peg)\n",
    "    match[TARGET_NAME][0] = '----'\n",
    "    won = blk_peg == 4\n",
    "    return guess, won, (blk_peg, wht_peg)\n",
    "\n",
    "def guess_pool_pruning(psw_pool, next_guess, hints):\n",
    "    to_remove = []\n",
    "    for psw in psw_pool:\n",
    "        if hints != hints_calculator(psw, next_guess):\n",
    "            to_remove.append(psw)\n",
    "    len_psw_pool = len(psw_pool)\n",
    "    psw_pool.difference_update(to_remove)\n",
    "    return int(len_psw_pool - len(psw_pool))"
   ]
  },
  {
   "cell_type": "code",
   "execution_count": 68,
   "metadata": {},
   "outputs": [],
   "source": [
    "from pprint import pprint\n",
    "\n",
    "victories = 0\n",
    "matches = []\n",
    "cuts_hist = []\n",
    "\n",
    "for PSW in PSW_POOL_COMPLETE:\n",
    "    won = False\n",
    "    psw_pool = set(PSW_POOL_COMPLETE.copy())\n",
    "    match, cuts = get_clean_match()\n",
    "    for guess_pos in FEATURES_NAME:\n",
    "        guess, is_psw, pegs = make_a_guess(match, PSW)\n",
    "        match[guess_pos] = [guess]\n",
    "        cuts[guess_pos] = guess_pool_pruning(psw_pool, guess[:-2], pegs)\n",
    "        if is_psw:\n",
    "            won = True\n",
    "            break\n",
    "            \n",
    "    match = {guess_pos: guess[0] for guess_pos, guess in match.items()}\n",
    "    match[TARGET_NAME] = PSW\n",
    "    cuts[TARGET_NAME] = PSW\n",
    "    if won:\n",
    "        victories = victories + 1\n",
    "    else:\n",
    "        match['Guess 10'] = MATCH_LOST_PAD\n",
    "        if PRINT_INFO:\n",
    "            print(\"Psw {} not guessed, match played:\\n\".format(PSW))\n",
    "            pprint(match)\n",
    "            print('\\n\\n')\n",
    "    matches.append(match)\n",
    "    cuts_hist.append(cuts)"
   ]
  },
  {
   "cell_type": "code",
   "execution_count": 69,
   "metadata": {},
   "outputs": [],
   "source": [
    "save_to_csv(matches, 'play')\n",
    "save_to_csv(cuts_hist, 'play_cuts')"
   ]
  },
  {
   "cell_type": "code",
   "execution_count": 70,
   "metadata": {},
   "outputs": [
    {
     "name": "stdout",
     "output_type": "stream",
     "text": [
      "Victories: 1 / 1296\n",
      "Ratio: 0.0007716049382716049\n"
     ]
    }
   ],
   "source": [
    "print(\"Victories: {} / {}\".format(victories, len(PSW_POOL_COMPLETE)))\n",
    "print(\"Ratio: {}\".format(victories/len(PSW_POOL_COMPLETE)))"
   ]
  }
 ],
 "metadata": {
  "kernelspec": {
   "display_name": "Python 3",
   "language": "python",
   "name": "python3"
  },
  "language_info": {
   "codemirror_mode": {
    "name": "ipython",
    "version": 3
   },
   "file_extension": ".py",
   "mimetype": "text/x-python",
   "name": "python",
   "nbconvert_exporter": "python",
   "pygments_lexer": "ipython3",
   "version": "3.6.8"
  }
 },
 "nbformat": 4,
 "nbformat_minor": 4
}
