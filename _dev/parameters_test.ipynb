{
 "cells": [
  {
   "cell_type": "markdown",
   "metadata": {},
   "source": [
    "### Parameters TAG test"
   ]
  },
  {
   "cell_type": "code",
   "execution_count": 7,
   "metadata": {
    "tags": [
     "parameters"
    ]
   },
   "outputs": [],
   "source": [
    "# Goal position\n",
    "GOAL_POS = 0 #[0-3]"
   ]
  },
  {
   "cell_type": "code",
   "execution_count": 8,
   "metadata": {},
   "outputs": [
    {
     "name": "stdout",
     "output_type": "stream",
     "text": [
      "0\n"
     ]
    }
   ],
   "source": [
    "print(GOAL_POS)"
   ]
  },
  {
   "cell_type": "code",
   "execution_count": 11,
   "metadata": {},
   "outputs": [
    {
     "ename": "ModuleNotFoundError",
     "evalue": "No module named 'tensorflow.nn'",
     "output_type": "error",
     "traceback": [
      "\u001b[0;31m---------------------------------------------------------------------------\u001b[0m",
      "\u001b[0;31mModuleNotFoundError\u001b[0m                       Traceback (most recent call last)",
      "\u001b[0;32m<ipython-input-11-903a89659db2>\u001b[0m in \u001b[0;36m<module>\u001b[0;34m\u001b[0m\n\u001b[1;32m      1\u001b[0m \u001b[0;32mimport\u001b[0m \u001b[0mtensorflow\u001b[0m \u001b[0;32mas\u001b[0m \u001b[0mtf\u001b[0m\u001b[0;34m\u001b[0m\u001b[0;34m\u001b[0m\u001b[0m\n\u001b[1;32m      2\u001b[0m \u001b[0;32mfrom\u001b[0m \u001b[0mtensorflow\u001b[0m \u001b[0;32mimport\u001b[0m \u001b[0mdata\u001b[0m\u001b[0;34m\u001b[0m\u001b[0;34m\u001b[0m\u001b[0m\n\u001b[0;32m----> 3\u001b[0;31m \u001b[0;32mfrom\u001b[0m \u001b[0mtensorflow\u001b[0m\u001b[0;34m.\u001b[0m\u001b[0mnn\u001b[0m \u001b[0;32mimport\u001b[0m \u001b[0mrnn_cell\u001b[0m\u001b[0;34m\u001b[0m\u001b[0;34m\u001b[0m\u001b[0m\n\u001b[0m\u001b[1;32m      4\u001b[0m \u001b[0;32mfrom\u001b[0m \u001b[0mtensorflow\u001b[0m\u001b[0;34m.\u001b[0m\u001b[0mnn\u001b[0m \u001b[0;32mimport\u001b[0m \u001b[0mstatic_bidirectional_rnn\u001b[0m\u001b[0;34m\u001b[0m\u001b[0;34m\u001b[0m\u001b[0m\n\u001b[1;32m      5\u001b[0m \u001b[0;32mimport\u001b[0m \u001b[0mmultiprocessing\u001b[0m\u001b[0;34m\u001b[0m\u001b[0;34m\u001b[0m\u001b[0m\n",
      "\u001b[0;31mModuleNotFoundError\u001b[0m: No module named 'tensorflow.nn'"
     ]
    }
   ],
   "source": [
    "import tensorflow as tf\n",
    "from tensorflow import data\n",
    "from tensorflow.nn import rnn_cell\n",
    "from tensorflow.nn import static_bidirectional_rnn\n",
    "import multiprocessing\n",
    "import random as rnd\n",
    "import logging\n",
    "import sys\n",
    "import json\n",
    "import time\n",
    "import datetime\n",
    "\n",
    "tf.logging.info('version:{}'.format(tf.__version__))\n",
    "tf.logging.set_verbosity(tf.logging.DEBUG)\n",
    "random_int = rnd.randint(0,1000)"
   ]
  },
  {
   "cell_type": "code",
   "execution_count": null,
   "metadata": {
    "tags": [
     "parameters"
    ]
   },
   "outputs": [],
   "source": [
    "# Goal position\n",
    "GOAL_POS = 0 #[0-3]\n",
    "\n",
    "# Model dir\n",
    "MODEL_DIR_PATH = \"model_dir_{}_{}\".format(random_int, GOAL_POS)"
   ]
  },
  {
   "cell_type": "code",
   "execution_count": null,
   "metadata": {
    "tags": [
     "parameters"
    ]
   },
   "outputs": [],
   "source": [
    "# General params\n",
    "NETWORK_TYPE, GOAL_TYPE = 'BiLSTM_AttentionSystem', 'goalReduced'\n",
    "LOGGING_TO_FILE = True\n",
    "\n",
    "# Debug params\n",
    "DEBUG_HOOK = False\n",
    "\n",
    "\n",
    "# Input params\n",
    "CSV_PATH_TRAIN = \"../database/dbML/knuthFast/knuthFast_2019-07-30_0.9_75844_train.csv\"\n",
    "CSV_PATH_EVAL = \"../database/dbML/knuthFast/knuthFast_2019-07-30_0.9_8516_eval.csv\"\n",
    "\n",
    "# Train params\n",
    "LEN_TRAIN_DB = 75844\n",
    "EPOCHS = 10\n",
    "ALPHA = 0.001\n",
    "\n",
    "\n",
    "# Network\n",
    "FW_FORGET_BIAS = 1\n",
    "BW_FORGET_BIAS = 1\n",
    "LSTM_SIZE = 256\n",
    "ATTENTION_SIZE = 256\n",
    "MAXOUT_SIZE = 256\n",
    "DROP_REPRESENTATION = 0.3 \n",
    "\n",
    "L2_ACTIVATED = True\n",
    "L2_SCALE = 0.001\n",
    "\n",
    "\n",
    "# Input \n",
    "BATCH_TRAIN = 4\n",
    "MULTI_THREADING = True\n",
    "\n",
    "# Eval\n",
    "BATCH_EVAL = 4\n",
    "SHUFFLE_EVAL = True\n",
    "EVAL_STEPS = None\n",
    "NUM_EVALS = EPOCHS"
   ]
  },
  {
   "cell_type": "code",
   "execution_count": null,
   "metadata": {},
   "outputs": [],
   "source": [
    "# What save in model.info\n",
    "model_params = {}\n",
    "model_params['_NETWORK_TYPE'] = NETWORK_TYPE\n",
    "model_params['CSV_PATH_TRAIN'] = CSV_PATH_TRAIN\n",
    "model_params['CSV_PATH_EVAL'] = CSV_PATH_EVAL\n",
    "model_params['MODEL_DIR_PATH'] = MODEL_DIR_PATH\n",
    "model_params['EPOCHS'] = EPOCHS\n",
    "model_params['ALPHA'] = ALPHA\n",
    "model_params['FW_FORGET_BIAS'] = FW_FORGET_BIAS\n",
    "model_params['BW_FORGET_BIAS'] = BW_FORGET_BIAS\n",
    "model_params['LSTM_SIZE'] = LSTM_SIZE\n",
    "model_params['NUM_EVALS'] = NUM_EVALS\n",
    "model_params['BATCH_TRAIN'] = BATCH_TRAIN\n",
    "model_params['BATCH_EVAL'] = BATCH_EVAL\n",
    "model_params['SHUFFLE_EVAL'] = SHUFFLE_EVAL\n",
    "model_params['EVAL_STEPS'] = EVAL_STEPS\n",
    "model_params['MULTI_THREADING'] = MULTI_THREADING\n",
    "model_params['INPUT_ENCODING'] = 'Peg: Hot encoding, Tips: One Hot Encoding'\n",
    "model_params['GOAL'] = GOAL_TYPE\n",
    "model_params['ATTENTION_SIZE'] = ATTENTION_SIZE\n",
    "model_params['MAXOUT_SIZE'] = MAXOUT_SIZE\n",
    "model_params['DROP_REPRESENTATION']= DROP_REPRESENTATION\n",
    "model_params['GOAL_POS'] = GOAL_POS\n",
    "model_params['loss_fn'] = \"mean_pairwise_squared_error\"\n",
    "if L2_ACTIVATED: model_params['L2_SCALE'] = L2_SCALE"
   ]
  },
  {
   "cell_type": "code",
   "execution_count": null,
   "metadata": {},
   "outputs": [],
   "source": [
    "print(model_params)"
   ]
  }
 ],
 "metadata": {
  "kernelspec": {
   "display_name": "Python 3",
   "language": "python",
   "name": "python3"
  },
  "language_info": {
   "codemirror_mode": {
    "name": "ipython",
    "version": 3
   },
   "file_extension": ".py",
   "mimetype": "text/x-python",
   "name": "python",
   "nbconvert_exporter": "python",
   "pygments_lexer": "ipython3",
   "version": "3.6.8"
  }
 },
 "nbformat": 4,
 "nbformat_minor": 4
}
