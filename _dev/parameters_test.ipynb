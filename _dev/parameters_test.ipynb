{
 "cells": [
  {
   "cell_type": "markdown",
   "metadata": {},
   "source": [
    "### Parameters TAG test"
   ]
  },
  {
   "cell_type": "code",
   "execution_count": 3,
   "metadata": {
    "tags": [
     "parameters"
    ]
   },
   "outputs": [],
   "source": [
    "# Goal position\n",
    "GOAL_POS = 0 #[0-3]"
   ]
  },
  {
   "cell_type": "code",
   "execution_count": 4,
   "metadata": {},
   "outputs": [
    {
     "name": "stdout",
     "output_type": "stream",
     "text": [
      "0\n"
     ]
    }
   ],
   "source": [
    "print(GOAL_POS)"
   ]
  },
  {
   "cell_type": "code",
   "execution_count": 5,
   "metadata": {},
   "outputs": [
    {
     "name": "stdout",
     "output_type": "stream",
     "text": [
      "INFO:tensorflow:version:1.13.1\n"
     ]
    }
   ],
   "source": [
    "import tensorflow as tf\n",
    "from tensorflow import data\n",
    "from tensorflow.nn import rnn_cell\n",
    "from tensorflow.nn import static_bidirectional_rnn\n",
    "import multiprocessing\n",
    "import random as rnd\n",
    "import logging\n",
    "import sys\n",
    "import json\n",
    "import time\n",
    "import datetime\n",
    "\n",
    "tf.logging.info('version:{}'.format(tf.__version__))\n",
    "tf.logging.set_verbosity(tf.logging.DEBUG)\n",
    "random_int = rnd.randint(0,1000)"
   ]
  },
  {
   "cell_type": "code",
   "execution_count": 11,
   "metadata": {},
   "outputs": [
    {
     "name": "stdout",
     "output_type": "stream",
     "text": [
      "hopeful_2019-10-05_0.6_414799_eval.csv\n",
      "hopeful_2019-10-05_0.6_622001_train.csv\n",
      "hopeful_2019-10-05_0.8_206957_eval.csv\n",
      "hopeful_2019-10-05_0.8_829843_train.csv\n",
      "light_eval_100.csv\n",
      "light_train_5000.csv\n"
     ]
    }
   ],
   "source": [
    "!ls ../2_database/dbML/hopeful/"
   ]
  },
  {
   "cell_type": "code",
   "execution_count": 6,
   "metadata": {
    "tags": [
     "parameters"
    ]
   },
   "outputs": [],
   "source": [
    "# Goal position\n",
    "GOAL_POS = 0 #[0-3]\n",
    "\n",
    "# Model dir\n",
    "MODEL_DIR_PATH = \"model_dir_{}_{}\".format(random_int, GOAL_POS)\n",
    "\n",
    "# General params\n",
    "NETWORK_TYPE, GOAL_TYPE = 'BiLSTM_AttentionSystem', 'goalReduced'\n",
    "LOGGING_TO_FILE = True\n",
    "\n",
    "# Debug params\n",
    "DEBUG_HOOK = False\n",
    "\n",
    "\n",
    "# Input params\n",
    "CSV_PATH_TRAIN = \"../2_database/dbML/hopeful/light_train_5000.csv\"\n",
    "CSV_PATH_EVAL = \"../2_database/dbML/hopeful/light_eval_100.csv\"\n",
    "\n",
    "# Train params\n",
    "LEN_TRAIN_DB = 5000\n",
    "EPOCHS = 3\n",
    "ALPHA = 0.001\n",
    "\n",
    "\n",
    "# Network\n",
    "FW_FORGET_BIAS = 1\n",
    "BW_FORGET_BIAS = 1\n",
    "LSTM_SIZE = 256\n",
    "ATTENTION_SIZE = 256\n",
    "MAXOUT_SIZE = 256\n",
    "DROP_REPRESENTATION = 0.3 \n",
    "\n",
    "L2_ACTIVATED = True\n",
    "L2_SCALE = 0.001\n",
    "\n",
    "\n",
    "# Input \n",
    "BATCH_TRAIN = 4\n",
    "MULTI_THREADING = True\n",
    "\n",
    "# Eval\n",
    "BATCH_EVAL = 4\n",
    "SHUFFLE_EVAL = True\n",
    "EVAL_STEPS = None\n",
    "NUM_EVALS = EPOCHS"
   ]
  },
  {
   "cell_type": "code",
   "execution_count": 7,
   "metadata": {},
   "outputs": [],
   "source": [
    "# What save in model.info\n",
    "model_params = {}\n",
    "model_params['_NETWORK_TYPE'] = NETWORK_TYPE\n",
    "model_params['CSV_PATH_TRAIN'] = CSV_PATH_TRAIN\n",
    "model_params['CSV_PATH_EVAL'] = CSV_PATH_EVAL\n",
    "model_params['MODEL_DIR_PATH'] = MODEL_DIR_PATH\n",
    "model_params['EPOCHS'] = EPOCHS\n",
    "model_params['ALPHA'] = ALPHA\n",
    "model_params['FW_FORGET_BIAS'] = FW_FORGET_BIAS\n",
    "model_params['BW_FORGET_BIAS'] = BW_FORGET_BIAS\n",
    "model_params['LSTM_SIZE'] = LSTM_SIZE\n",
    "model_params['NUM_EVALS'] = NUM_EVALS\n",
    "model_params['BATCH_TRAIN'] = BATCH_TRAIN\n",
    "model_params['BATCH_EVAL'] = BATCH_EVAL\n",
    "model_params['SHUFFLE_EVAL'] = SHUFFLE_EVAL\n",
    "model_params['EVAL_STEPS'] = EVAL_STEPS\n",
    "model_params['MULTI_THREADING'] = MULTI_THREADING\n",
    "model_params['INPUT_ENCODING'] = 'Peg: Hot encoding, Tips: One Hot Encoding'\n",
    "model_params['GOAL'] = GOAL_TYPE\n",
    "model_params['ATTENTION_SIZE'] = ATTENTION_SIZE\n",
    "model_params['MAXOUT_SIZE'] = MAXOUT_SIZE\n",
    "model_params['DROP_REPRESENTATION']= DROP_REPRESENTATION\n",
    "model_params['GOAL_POS'] = GOAL_POS\n",
    "model_params['loss_fn'] = \"mean_pairwise_squared_error\"\n",
    "if L2_ACTIVATED: model_params['L2_SCALE'] = L2_SCALE"
   ]
  },
  {
   "cell_type": "code",
   "execution_count": 8,
   "metadata": {},
   "outputs": [
    {
     "name": "stdout",
     "output_type": "stream",
     "text": [
      "{'_NETWORK_TYPE': 'BiLSTM_AttentionSystem', 'CSV_PATH_TRAIN': '../database/dbML/knuthFast/knuthFast_2019-07-30_0.9_75844_train.csv', 'CSV_PATH_EVAL': '../database/dbML/knuthFast/knuthFast_2019-07-30_0.9_8516_eval.csv', 'MODEL_DIR_PATH': 'model_dir_683_0', 'EPOCHS': 10, 'ALPHA': 0.001, 'FW_FORGET_BIAS': 1, 'BW_FORGET_BIAS': 1, 'LSTM_SIZE': 256, 'NUM_EVALS': 10, 'BATCH_TRAIN': 4, 'BATCH_EVAL': 4, 'SHUFFLE_EVAL': True, 'EVAL_STEPS': None, 'MULTI_THREADING': True, 'INPUT_ENCODING': 'Peg: Hot encoding, Tips: One Hot Encoding', 'GOAL': 'goalReduced', 'ATTENTION_SIZE': 256, 'MAXOUT_SIZE': 256, 'DROP_REPRESENTATION': 0.3, 'GOAL_POS': 0, 'loss_fn': 'mean_pairwise_squared_error', 'L2_SCALE': 0.001}\n"
     ]
    }
   ],
   "source": [
    "print(model_params)"
   ]
  }
 ],
 "metadata": {
  "kernelspec": {
   "display_name": "Python 3",
   "language": "python",
   "name": "python3"
  },
  "language_info": {
   "codemirror_mode": {
    "name": "ipython",
    "version": 3
   },
   "file_extension": ".py",
   "mimetype": "text/x-python",
   "name": "python",
   "nbconvert_exporter": "python",
   "pygments_lexer": "ipython3",
   "version": "3.6.8"
  }
 },
 "nbformat": 4,
 "nbformat_minor": 4
}
