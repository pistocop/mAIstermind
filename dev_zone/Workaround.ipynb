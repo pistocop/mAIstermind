{
 "cells": [
  {
   "cell_type": "code",
   "execution_count": 115,
   "metadata": {},
   "outputs": [
    {
     "name": "stdout",
     "output_type": "stream",
     "text": [
      "hopeful_play.csv  hopeful_play_cuts.csv\n"
     ]
    }
   ],
   "source": [
    "!ls ./matchesPlayed/"
   ]
  },
  {
   "cell_type": "code",
   "execution_count": 116,
   "metadata": {},
   "outputs": [],
   "source": [
    "%matplotlib inline"
   ]
  },
  {
   "cell_type": "code",
   "execution_count": 117,
   "metadata": {},
   "outputs": [],
   "source": [
    "import pandas as pd"
   ]
  },
  {
   "cell_type": "code",
   "execution_count": 118,
   "metadata": {},
   "outputs": [],
   "source": [
    "PLAYER_PATH = \"./matchesPlayed/hopeful_play.csv\""
   ]
  },
  {
   "cell_type": "code",
   "execution_count": 119,
   "metadata": {},
   "outputs": [],
   "source": [
    "df = pd.read_csv(PLAYER_PATH, delimiter=',',encoding='utf-8', skip_blank_lines=True)"
   ]
  },
  {
   "cell_type": "code",
   "execution_count": 120,
   "metadata": {},
   "outputs": [
    {
     "data": {
      "text/html": [
       "<div>\n",
       "<style scoped>\n",
       "    .dataframe tbody tr th:only-of-type {\n",
       "        vertical-align: middle;\n",
       "    }\n",
       "\n",
       "    .dataframe tbody tr th {\n",
       "        vertical-align: top;\n",
       "    }\n",
       "\n",
       "    .dataframe thead th {\n",
       "        text-align: right;\n",
       "    }\n",
       "</style>\n",
       "<table border=\"1\" class=\"dataframe\">\n",
       "  <thead>\n",
       "    <tr style=\"text-align: right;\">\n",
       "      <th></th>\n",
       "      <th>Guess 1</th>\n",
       "      <th>Guess 2</th>\n",
       "      <th>Guess 3</th>\n",
       "      <th>Guess 4</th>\n",
       "      <th>Guess 5</th>\n",
       "      <th>Guess 6</th>\n",
       "      <th>Guess 7</th>\n",
       "      <th>Guess 8</th>\n",
       "      <th>Guess 9</th>\n",
       "      <th>Guess 10</th>\n",
       "      <th>PASSWORD</th>\n",
       "    </tr>\n",
       "  </thead>\n",
       "  <tbody>\n",
       "    <tr>\n",
       "      <th>count</th>\n",
       "      <td>1296</td>\n",
       "      <td>1296</td>\n",
       "      <td>1296</td>\n",
       "      <td>1296</td>\n",
       "      <td>1296</td>\n",
       "      <td>1296</td>\n",
       "      <td>1296</td>\n",
       "      <td>1296</td>\n",
       "      <td>1296</td>\n",
       "      <td>1296</td>\n",
       "      <td>1296</td>\n",
       "    </tr>\n",
       "    <tr>\n",
       "      <th>unique</th>\n",
       "      <td>14</td>\n",
       "      <td>111</td>\n",
       "      <td>490</td>\n",
       "      <td>910</td>\n",
       "      <td>896</td>\n",
       "      <td>613</td>\n",
       "      <td>349</td>\n",
       "      <td>210</td>\n",
       "      <td>152</td>\n",
       "      <td>8</td>\n",
       "      <td>1296</td>\n",
       "    </tr>\n",
       "    <tr>\n",
       "      <th>top</th>\n",
       "      <td>AEFE01</td>\n",
       "      <td>BABC11</td>\n",
       "      <td>AEAA10</td>\n",
       "      <td>&lt;pad&gt;</td>\n",
       "      <td>&lt;pad&gt;</td>\n",
       "      <td>&lt;pad&gt;</td>\n",
       "      <td>&lt;pad&gt;</td>\n",
       "      <td>&lt;pad&gt;</td>\n",
       "      <td>&lt;pad&gt;</td>\n",
       "      <td>&lt;pad&gt;</td>\n",
       "      <td>FABF</td>\n",
       "    </tr>\n",
       "    <tr>\n",
       "      <th>freq</th>\n",
       "      <td>276</td>\n",
       "      <td>53</td>\n",
       "      <td>36</td>\n",
       "      <td>88</td>\n",
       "      <td>329</td>\n",
       "      <td>662</td>\n",
       "      <td>940</td>\n",
       "      <td>1082</td>\n",
       "      <td>1141</td>\n",
       "      <td>1175</td>\n",
       "      <td>1</td>\n",
       "    </tr>\n",
       "  </tbody>\n",
       "</table>\n",
       "</div>"
      ],
      "text/plain": [
       "       Guess 1 Guess 2 Guess 3 Guess 4 Guess 5 Guess 6 Guess 7 Guess 8  \\\n",
       "count     1296    1296    1296    1296    1296    1296    1296    1296   \n",
       "unique      14     111     490     910     896     613     349     210   \n",
       "top     AEFE01  BABC11  AEAA10   <pad>   <pad>   <pad>   <pad>   <pad>   \n",
       "freq       276      53      36      88     329     662     940    1082   \n",
       "\n",
       "       Guess 9 Guess 10 PASSWORD  \n",
       "count     1296     1296     1296  \n",
       "unique     152        8     1296  \n",
       "top      <pad>    <pad>     FABF  \n",
       "freq      1141     1175        1  "
      ]
     },
     "execution_count": 120,
     "metadata": {},
     "output_type": "execute_result"
    }
   ],
   "source": [
    "df.describe()"
   ]
  },
  {
   "cell_type": "code",
   "execution_count": 121,
   "metadata": {},
   "outputs": [
    {
     "data": {
      "text/html": [
       "<div>\n",
       "<style scoped>\n",
       "    .dataframe tbody tr th:only-of-type {\n",
       "        vertical-align: middle;\n",
       "    }\n",
       "\n",
       "    .dataframe tbody tr th {\n",
       "        vertical-align: top;\n",
       "    }\n",
       "\n",
       "    .dataframe thead th {\n",
       "        text-align: right;\n",
       "    }\n",
       "</style>\n",
       "<table border=\"1\" class=\"dataframe\">\n",
       "  <thead>\n",
       "    <tr style=\"text-align: right;\">\n",
       "      <th></th>\n",
       "      <th>Guess 1</th>\n",
       "      <th>Guess 2</th>\n",
       "      <th>Guess 3</th>\n",
       "      <th>Guess 4</th>\n",
       "      <th>Guess 5</th>\n",
       "      <th>Guess 6</th>\n",
       "      <th>Guess 7</th>\n",
       "      <th>Guess 8</th>\n",
       "      <th>Guess 9</th>\n",
       "      <th>Guess 10</th>\n",
       "      <th>PASSWORD</th>\n",
       "    </tr>\n",
       "  </thead>\n",
       "  <tbody>\n",
       "    <tr>\n",
       "      <th>0</th>\n",
       "      <td>AEFE10</td>\n",
       "      <td>ABBD10</td>\n",
       "      <td>CEBC00</td>\n",
       "      <td>ADDA20</td>\n",
       "      <td>AFFA20</td>\n",
       "      <td>AAAA40</td>\n",
       "      <td>&lt;pad&gt;</td>\n",
       "      <td>&lt;pad&gt;</td>\n",
       "      <td>&lt;pad&gt;</td>\n",
       "      <td>&lt;pad&gt;</td>\n",
       "      <td>AAAA</td>\n",
       "    </tr>\n",
       "    <tr>\n",
       "      <th>1</th>\n",
       "      <td>AEFE10</td>\n",
       "      <td>ABBD11</td>\n",
       "      <td>BEBC01</td>\n",
       "      <td>DDAE10</td>\n",
       "      <td>DBFF01</td>\n",
       "      <td>CCAF10</td>\n",
       "      <td>ADAB30</td>\n",
       "      <td>ADAB30</td>\n",
       "      <td>ADAB30</td>\n",
       "      <td>XXXX</td>\n",
       "      <td>AAAB</td>\n",
       "    </tr>\n",
       "    <tr>\n",
       "      <th>2</th>\n",
       "      <td>AEFE10</td>\n",
       "      <td>ABBD10</td>\n",
       "      <td>CEBC10</td>\n",
       "      <td>CFFD01</td>\n",
       "      <td>AEAF20</td>\n",
       "      <td>AEAD20</td>\n",
       "      <td>AEBF10</td>\n",
       "      <td>ACAA22</td>\n",
       "      <td>AAAC40</td>\n",
       "      <td>&lt;pad&gt;</td>\n",
       "      <td>AAAC</td>\n",
       "    </tr>\n",
       "    <tr>\n",
       "      <th>3</th>\n",
       "      <td>AEFE10</td>\n",
       "      <td>ABBD20</td>\n",
       "      <td>ABCC10</td>\n",
       "      <td>AAAD40</td>\n",
       "      <td>&lt;pad&gt;</td>\n",
       "      <td>&lt;pad&gt;</td>\n",
       "      <td>&lt;pad&gt;</td>\n",
       "      <td>&lt;pad&gt;</td>\n",
       "      <td>&lt;pad&gt;</td>\n",
       "      <td>&lt;pad&gt;</td>\n",
       "      <td>AAAD</td>\n",
       "    </tr>\n",
       "    <tr>\n",
       "      <th>4</th>\n",
       "      <td>AEFE20</td>\n",
       "      <td>AEBB11</td>\n",
       "      <td>BEFF01</td>\n",
       "      <td>AAAE40</td>\n",
       "      <td>&lt;pad&gt;</td>\n",
       "      <td>&lt;pad&gt;</td>\n",
       "      <td>&lt;pad&gt;</td>\n",
       "      <td>&lt;pad&gt;</td>\n",
       "      <td>&lt;pad&gt;</td>\n",
       "      <td>&lt;pad&gt;</td>\n",
       "      <td>AAAE</td>\n",
       "    </tr>\n",
       "  </tbody>\n",
       "</table>\n",
       "</div>"
      ],
      "text/plain": [
       "  Guess 1 Guess 2 Guess 3 Guess 4 Guess 5 Guess 6 Guess 7 Guess 8 Guess 9  \\\n",
       "0  AEFE10  ABBD10  CEBC00  ADDA20  AFFA20  AAAA40   <pad>   <pad>   <pad>   \n",
       "1  AEFE10  ABBD11  BEBC01  DDAE10  DBFF01  CCAF10  ADAB30  ADAB30  ADAB30   \n",
       "2  AEFE10  ABBD10  CEBC10  CFFD01  AEAF20  AEAD20  AEBF10  ACAA22  AAAC40   \n",
       "3  AEFE10  ABBD20  ABCC10  AAAD40   <pad>   <pad>   <pad>   <pad>   <pad>   \n",
       "4  AEFE20  AEBB11  BEFF01  AAAE40   <pad>   <pad>   <pad>   <pad>   <pad>   \n",
       "\n",
       "  Guess 10 PASSWORD  \n",
       "0    <pad>     AAAA  \n",
       "1     XXXX     AAAB  \n",
       "2    <pad>     AAAC  \n",
       "3    <pad>     AAAD  \n",
       "4    <pad>     AAAE  "
      ]
     },
     "execution_count": 121,
     "metadata": {},
     "output_type": "execute_result"
    }
   ],
   "source": [
    "df.head()"
   ]
  },
  {
   "cell_type": "markdown",
   "metadata": {},
   "source": [
    "-----------\n",
    "*Match vinti in un colpo*"
   ]
  },
  {
   "cell_type": "code",
   "execution_count": 122,
   "metadata": {},
   "outputs": [
    {
     "data": {
      "text/html": [
       "<div>\n",
       "<style scoped>\n",
       "    .dataframe tbody tr th:only-of-type {\n",
       "        vertical-align: middle;\n",
       "    }\n",
       "\n",
       "    .dataframe tbody tr th {\n",
       "        vertical-align: top;\n",
       "    }\n",
       "\n",
       "    .dataframe thead th {\n",
       "        text-align: right;\n",
       "    }\n",
       "</style>\n",
       "<table border=\"1\" class=\"dataframe\">\n",
       "  <thead>\n",
       "    <tr style=\"text-align: right;\">\n",
       "      <th></th>\n",
       "      <th>Guess 1</th>\n",
       "      <th>Guess 2</th>\n",
       "      <th>Guess 3</th>\n",
       "      <th>Guess 4</th>\n",
       "      <th>Guess 5</th>\n",
       "      <th>Guess 6</th>\n",
       "      <th>Guess 7</th>\n",
       "      <th>Guess 8</th>\n",
       "      <th>Guess 9</th>\n",
       "      <th>Guess 10</th>\n",
       "      <th>PASSWORD</th>\n",
       "    </tr>\n",
       "  </thead>\n",
       "  <tbody>\n",
       "    <tr>\n",
       "      <th>178</th>\n",
       "      <td>AEFE40</td>\n",
       "      <td>&lt;pad&gt;</td>\n",
       "      <td>&lt;pad&gt;</td>\n",
       "      <td>&lt;pad&gt;</td>\n",
       "      <td>&lt;pad&gt;</td>\n",
       "      <td>&lt;pad&gt;</td>\n",
       "      <td>&lt;pad&gt;</td>\n",
       "      <td>&lt;pad&gt;</td>\n",
       "      <td>&lt;pad&gt;</td>\n",
       "      <td>&lt;pad&gt;</td>\n",
       "      <td>AEFE</td>\n",
       "    </tr>\n",
       "  </tbody>\n",
       "</table>\n",
       "</div>"
      ],
      "text/plain": [
       "    Guess 1 Guess 2 Guess 3 Guess 4 Guess 5 Guess 6 Guess 7 Guess 8 Guess 9  \\\n",
       "178  AEFE40   <pad>   <pad>   <pad>   <pad>   <pad>   <pad>   <pad>   <pad>   \n",
       "\n",
       "    Guess 10 PASSWORD  \n",
       "178    <pad>     AEFE  "
      ]
     },
     "execution_count": 122,
     "metadata": {},
     "output_type": "execute_result"
    }
   ],
   "source": [
    "df[df['Guess 2']=='<pad>']"
   ]
  },
  {
   "cell_type": "code",
   "execution_count": 123,
   "metadata": {},
   "outputs": [
    {
     "data": {
      "text/plain": [
       "'match lost: 115'"
      ]
     },
     "execution_count": 123,
     "metadata": {},
     "output_type": "execute_result"
    }
   ],
   "source": [
    "df_lost = df[df['Guess 10'] == 'XXXX']\n",
    "'match lost: {}'.format(len(df_lost))"
   ]
  },
  {
   "cell_type": "code",
   "execution_count": 125,
   "metadata": {},
   "outputs": [],
   "source": [
    "features_name = ['Guess 1', 'Guess 2', 'Guess 3', 'Guess 4', 'Guess 5',\n",
    "              'Guess 6', 'Guess 7', 'Guess 8', 'Guess 9', 'Guess 10']\n",
    "\n",
    "target_name = 'PASSWORD'"
   ]
  },
  {
   "cell_type": "code",
   "execution_count": 126,
   "metadata": {},
   "outputs": [
    {
     "data": {
      "text/plain": [
       "'Match won: 1181'"
      ]
     },
     "execution_count": 126,
     "metadata": {},
     "output_type": "execute_result"
    }
   ],
   "source": [
    "df_won = df[df['Guess 10'] != 'XXXX']\n",
    "'Match won: {}'.format(len(df_won))"
   ]
  },
  {
   "cell_type": "code",
   "execution_count": 127,
   "metadata": {},
   "outputs": [
    {
     "data": {
      "text/html": [
       "<div>\n",
       "<style scoped>\n",
       "    .dataframe tbody tr th:only-of-type {\n",
       "        vertical-align: middle;\n",
       "    }\n",
       "\n",
       "    .dataframe tbody tr th {\n",
       "        vertical-align: top;\n",
       "    }\n",
       "\n",
       "    .dataframe thead th {\n",
       "        text-align: right;\n",
       "    }\n",
       "</style>\n",
       "<table border=\"1\" class=\"dataframe\">\n",
       "  <thead>\n",
       "    <tr style=\"text-align: right;\">\n",
       "      <th></th>\n",
       "      <th>Guess 1</th>\n",
       "      <th>Guess 2</th>\n",
       "      <th>Guess 3</th>\n",
       "      <th>Guess 4</th>\n",
       "      <th>Guess 5</th>\n",
       "      <th>Guess 6</th>\n",
       "      <th>Guess 7</th>\n",
       "      <th>Guess 8</th>\n",
       "      <th>Guess 9</th>\n",
       "      <th>Guess 10</th>\n",
       "      <th>PASSWORD</th>\n",
       "    </tr>\n",
       "  </thead>\n",
       "  <tbody>\n",
       "    <tr>\n",
       "      <th>0</th>\n",
       "      <td>AEFE10</td>\n",
       "      <td>ABBD10</td>\n",
       "      <td>CEBC00</td>\n",
       "      <td>ADDA20</td>\n",
       "      <td>AFFA20</td>\n",
       "      <td>AAAA40</td>\n",
       "      <td>&lt;pad&gt;</td>\n",
       "      <td>&lt;pad&gt;</td>\n",
       "      <td>&lt;pad&gt;</td>\n",
       "      <td>&lt;pad&gt;</td>\n",
       "      <td>AAAA</td>\n",
       "    </tr>\n",
       "    <tr>\n",
       "      <th>1</th>\n",
       "      <td>AEFE10</td>\n",
       "      <td>ABBD11</td>\n",
       "      <td>BEBC01</td>\n",
       "      <td>DDAE10</td>\n",
       "      <td>DBFF01</td>\n",
       "      <td>CCAF10</td>\n",
       "      <td>ADAB30</td>\n",
       "      <td>ADAB30</td>\n",
       "      <td>ADAB30</td>\n",
       "      <td>XXXX</td>\n",
       "      <td>AAAB</td>\n",
       "    </tr>\n",
       "    <tr>\n",
       "      <th>2</th>\n",
       "      <td>AEFE10</td>\n",
       "      <td>ABBD10</td>\n",
       "      <td>CEBC10</td>\n",
       "      <td>CFFD01</td>\n",
       "      <td>AEAF20</td>\n",
       "      <td>AEAD20</td>\n",
       "      <td>AEBF10</td>\n",
       "      <td>ACAA22</td>\n",
       "      <td>AAAC40</td>\n",
       "      <td>&lt;pad&gt;</td>\n",
       "      <td>AAAC</td>\n",
       "    </tr>\n",
       "    <tr>\n",
       "      <th>3</th>\n",
       "      <td>AEFE10</td>\n",
       "      <td>ABBD20</td>\n",
       "      <td>ABCC10</td>\n",
       "      <td>AAAD40</td>\n",
       "      <td>&lt;pad&gt;</td>\n",
       "      <td>&lt;pad&gt;</td>\n",
       "      <td>&lt;pad&gt;</td>\n",
       "      <td>&lt;pad&gt;</td>\n",
       "      <td>&lt;pad&gt;</td>\n",
       "      <td>&lt;pad&gt;</td>\n",
       "      <td>AAAD</td>\n",
       "    </tr>\n",
       "    <tr>\n",
       "      <th>4</th>\n",
       "      <td>AEFE20</td>\n",
       "      <td>AEBB11</td>\n",
       "      <td>BEFF01</td>\n",
       "      <td>AAAE40</td>\n",
       "      <td>&lt;pad&gt;</td>\n",
       "      <td>&lt;pad&gt;</td>\n",
       "      <td>&lt;pad&gt;</td>\n",
       "      <td>&lt;pad&gt;</td>\n",
       "      <td>&lt;pad&gt;</td>\n",
       "      <td>&lt;pad&gt;</td>\n",
       "      <td>AAAE</td>\n",
       "    </tr>\n",
       "  </tbody>\n",
       "</table>\n",
       "</div>"
      ],
      "text/plain": [
       "  Guess 1 Guess 2 Guess 3 Guess 4 Guess 5 Guess 6 Guess 7 Guess 8 Guess 9  \\\n",
       "0  AEFE10  ABBD10  CEBC00  ADDA20  AFFA20  AAAA40   <pad>   <pad>   <pad>   \n",
       "1  AEFE10  ABBD11  BEBC01  DDAE10  DBFF01  CCAF10  ADAB30  ADAB30  ADAB30   \n",
       "2  AEFE10  ABBD10  CEBC10  CFFD01  AEAF20  AEAD20  AEBF10  ACAA22  AAAC40   \n",
       "3  AEFE10  ABBD20  ABCC10  AAAD40   <pad>   <pad>   <pad>   <pad>   <pad>   \n",
       "4  AEFE20  AEBB11  BEFF01  AAAE40   <pad>   <pad>   <pad>   <pad>   <pad>   \n",
       "\n",
       "  Guess 10 PASSWORD  \n",
       "0    <pad>     AAAA  \n",
       "1     XXXX     AAAB  \n",
       "2    <pad>     AAAC  \n",
       "3    <pad>     AAAD  \n",
       "4    <pad>     AAAE  "
      ]
     },
     "execution_count": 127,
     "metadata": {},
     "output_type": "execute_result"
    }
   ],
   "source": [
    "df.head()"
   ]
  },
  {
   "cell_type": "markdown",
   "metadata": {},
   "source": [
    "-------\n",
    "**Analisi lunghezza match**"
   ]
  },
  {
   "cell_type": "code",
   "execution_count": 128,
   "metadata": {},
   "outputs": [],
   "source": [
    "df['match_len'] = 10 - df_won[(df[features_name] == '<pad>')].count(axis = 1)"
   ]
  },
  {
   "cell_type": "code",
   "execution_count": 129,
   "metadata": {},
   "outputs": [
    {
     "data": {
      "text/html": [
       "<div>\n",
       "<style scoped>\n",
       "    .dataframe tbody tr th:only-of-type {\n",
       "        vertical-align: middle;\n",
       "    }\n",
       "\n",
       "    .dataframe tbody tr th {\n",
       "        vertical-align: top;\n",
       "    }\n",
       "\n",
       "    .dataframe thead th {\n",
       "        text-align: right;\n",
       "    }\n",
       "</style>\n",
       "<table border=\"1\" class=\"dataframe\">\n",
       "  <thead>\n",
       "    <tr style=\"text-align: right;\">\n",
       "      <th></th>\n",
       "      <th>Guess 1</th>\n",
       "      <th>Guess 2</th>\n",
       "      <th>Guess 3</th>\n",
       "      <th>Guess 4</th>\n",
       "      <th>Guess 5</th>\n",
       "      <th>Guess 6</th>\n",
       "      <th>Guess 7</th>\n",
       "      <th>Guess 8</th>\n",
       "      <th>Guess 9</th>\n",
       "      <th>Guess 10</th>\n",
       "      <th>PASSWORD</th>\n",
       "      <th>match_len</th>\n",
       "    </tr>\n",
       "  </thead>\n",
       "  <tbody>\n",
       "    <tr>\n",
       "      <th>0</th>\n",
       "      <td>AEFE10</td>\n",
       "      <td>ABBD10</td>\n",
       "      <td>CEBC00</td>\n",
       "      <td>ADDA20</td>\n",
       "      <td>AFFA20</td>\n",
       "      <td>AAAA40</td>\n",
       "      <td>&lt;pad&gt;</td>\n",
       "      <td>&lt;pad&gt;</td>\n",
       "      <td>&lt;pad&gt;</td>\n",
       "      <td>&lt;pad&gt;</td>\n",
       "      <td>AAAA</td>\n",
       "      <td>6.0</td>\n",
       "    </tr>\n",
       "    <tr>\n",
       "      <th>1</th>\n",
       "      <td>AEFE10</td>\n",
       "      <td>ABBD11</td>\n",
       "      <td>BEBC01</td>\n",
       "      <td>DDAE10</td>\n",
       "      <td>DBFF01</td>\n",
       "      <td>CCAF10</td>\n",
       "      <td>ADAB30</td>\n",
       "      <td>ADAB30</td>\n",
       "      <td>ADAB30</td>\n",
       "      <td>XXXX</td>\n",
       "      <td>AAAB</td>\n",
       "      <td>NaN</td>\n",
       "    </tr>\n",
       "    <tr>\n",
       "      <th>2</th>\n",
       "      <td>AEFE10</td>\n",
       "      <td>ABBD10</td>\n",
       "      <td>CEBC10</td>\n",
       "      <td>CFFD01</td>\n",
       "      <td>AEAF20</td>\n",
       "      <td>AEAD20</td>\n",
       "      <td>AEBF10</td>\n",
       "      <td>ACAA22</td>\n",
       "      <td>AAAC40</td>\n",
       "      <td>&lt;pad&gt;</td>\n",
       "      <td>AAAC</td>\n",
       "      <td>9.0</td>\n",
       "    </tr>\n",
       "    <tr>\n",
       "      <th>3</th>\n",
       "      <td>AEFE10</td>\n",
       "      <td>ABBD20</td>\n",
       "      <td>ABCC10</td>\n",
       "      <td>AAAD40</td>\n",
       "      <td>&lt;pad&gt;</td>\n",
       "      <td>&lt;pad&gt;</td>\n",
       "      <td>&lt;pad&gt;</td>\n",
       "      <td>&lt;pad&gt;</td>\n",
       "      <td>&lt;pad&gt;</td>\n",
       "      <td>&lt;pad&gt;</td>\n",
       "      <td>AAAD</td>\n",
       "      <td>4.0</td>\n",
       "    </tr>\n",
       "    <tr>\n",
       "      <th>4</th>\n",
       "      <td>AEFE20</td>\n",
       "      <td>AEBB11</td>\n",
       "      <td>BEFF01</td>\n",
       "      <td>AAAE40</td>\n",
       "      <td>&lt;pad&gt;</td>\n",
       "      <td>&lt;pad&gt;</td>\n",
       "      <td>&lt;pad&gt;</td>\n",
       "      <td>&lt;pad&gt;</td>\n",
       "      <td>&lt;pad&gt;</td>\n",
       "      <td>&lt;pad&gt;</td>\n",
       "      <td>AAAE</td>\n",
       "      <td>4.0</td>\n",
       "    </tr>\n",
       "  </tbody>\n",
       "</table>\n",
       "</div>"
      ],
      "text/plain": [
       "  Guess 1 Guess 2 Guess 3 Guess 4 Guess 5 Guess 6 Guess 7 Guess 8 Guess 9  \\\n",
       "0  AEFE10  ABBD10  CEBC00  ADDA20  AFFA20  AAAA40   <pad>   <pad>   <pad>   \n",
       "1  AEFE10  ABBD11  BEBC01  DDAE10  DBFF01  CCAF10  ADAB30  ADAB30  ADAB30   \n",
       "2  AEFE10  ABBD10  CEBC10  CFFD01  AEAF20  AEAD20  AEBF10  ACAA22  AAAC40   \n",
       "3  AEFE10  ABBD20  ABCC10  AAAD40   <pad>   <pad>   <pad>   <pad>   <pad>   \n",
       "4  AEFE20  AEBB11  BEFF01  AAAE40   <pad>   <pad>   <pad>   <pad>   <pad>   \n",
       "\n",
       "  Guess 10 PASSWORD  match_len  \n",
       "0    <pad>     AAAA        6.0  \n",
       "1     XXXX     AAAB        NaN  \n",
       "2    <pad>     AAAC        9.0  \n",
       "3    <pad>     AAAD        4.0  \n",
       "4    <pad>     AAAE        4.0  "
      ]
     },
     "execution_count": 129,
     "metadata": {},
     "output_type": "execute_result"
    }
   ],
   "source": [
    "df.head()"
   ]
  },
  {
   "cell_type": "markdown",
   "metadata": {},
   "source": [
    "**Analisi se alcune passqword vengono azzeccate meglio di altre**\n",
    "\n",
    "-> TODO: controlla se quei picchi sono in prossimità di particolari psw"
   ]
  },
  {
   "cell_type": "code",
   "execution_count": 130,
   "metadata": {},
   "outputs": [
    {
     "data": {
      "text/plain": [
       "<matplotlib.axes._subplots.AxesSubplot at 0x7f42df09e860>"
      ]
     },
     "execution_count": 130,
     "metadata": {},
     "output_type": "execute_result"
    },
    {
     "data": {
      "image/png": "[encoded data removed]",
      "text/plain": [
       "<Figure size 432x288 with 1 Axes>"
      ]
     },
     "metadata": {
      "needs_background": "light"
     },
     "output_type": "display_data"
    }
   ],
   "source": [
    "df['match_len'].plot()"
   ]
  },
  {
   "cell_type": "code",
   "execution_count": 131,
   "metadata": {},
   "outputs": [
    {
     "data": {
      "text/plain": [
       "<matplotlib.axes._subplots.AxesSubplot at 0x7f42df05f438>"
      ]
     },
     "execution_count": 131,
     "metadata": {},
     "output_type": "execute_result"
    },
    {
     "data": {
      "image/png": "[encoded data removed]",
      "text/plain": [
       "<Figure size 432x288 with 1 Axes>"
      ]
     },
     "metadata": {
      "needs_background": "light"
     },
     "output_type": "display_data"
    }
   ],
   "source": [
    "df['match_len'].hist()"
   ]
  }
 ],
 "metadata": {
  "kernelspec": {
   "display_name": "Python 3",
   "language": "python",
   "name": "python3"
  },
  "language_info": {
   "codemirror_mode": {
    "name": "ipython",
    "version": 3
   },
   "file_extension": ".py",
   "mimetype": "text/x-python",
   "name": "python",
   "nbconvert_exporter": "python",
   "pygments_lexer": "ipython3",
   "version": "3.6.8"
  }
 },
 "nbformat": 4,
 "nbformat_minor": 4
}
